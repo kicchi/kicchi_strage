{
 "cells": [
  {
   "cell_type": "code",
   "execution_count": 7,
   "metadata": {},
   "outputs": [
    {
     "name": "stdout",
     "output_type": "stream",
     "text": [
      "Soba00000005.jpg\n",
      "00000006.jpg\n"
     ]
    }
   ],
   "source": [
    "tree=ET.parse(xmls[5])\n",
    "filename = tree.find('filename')\n",
    "print(xmls[5].split('.')[0] + '.' + filename.text.split('.')[1])\n",
    "print(filename.text)"
   ]
  },
  {
   "cell_type": "code",
   "execution_count": 9,
   "metadata": {},
   "outputs": [],
   "source": [
    "import xml.etree.ElementTree as ET\n",
    "import glob\n",
    "\n",
    "xmls = glob.glob(\"*.xml\")\n",
    "for xml in xmls:\n",
    "    tree = ET.parse(xml)\n",
    "    filename = tree.find('filename')\n",
    "    filename.text = xml.split('.')[0] + '.' + filename.text.split('.')[1]\n",
    "    tree.write(xml,'utf-8',True)"
   ]
  },
  {
   "cell_type": "code",
   "execution_count": 11,
   "metadata": {
    "collapsed": true
   },
   "outputs": [
    {
     "name": "stdout",
     "output_type": "stream",
     "text": [
      "['Soba00000000.jpg', 'Soba00000001.jpg', 'Soba00000002.jpg', 'Soba00000003.jpg', 'Soba00000004.jpg', 'Soba00000005.jpg', 'Soba00000006.jpg', 'Soba00000007.jpg', 'Soba00000008.jpg', 'Soba00000009.jpg', 'Soba00000010.jpg', 'Soba00000011.jpg', 'Soba00000012.jpg', 'Soba00000013.jpg', 'Soba00000014.jpg', 'Soba00000015.jpg', 'Soba00000016.jpg', 'Soba00000017.jpg', 'Soba00000018.jpg', 'Soba00000019.jpg', 'Soba00000020.jpg', 'Soba00000021.jpg', 'Soba00000022.jpg', 'Soba00000023.jpg', 'Soba00000024.jpg', 'Soba00000025.jpg', 'Soba00000026.jpg', 'Soba00000027.jpg', 'Soba00000028.jpg', 'Soba00000029.jpg', 'Soba00000030.jpg', 'Soba00000031.jpg', 'Soba00000032.jpg', 'Soba00000033.jpg', 'Soba00000034.jpg', 'Soba00000035.jpg', 'Soba00000036.jpg', 'Soba00000037.jpg', 'Soba00000038.jpg', 'Soba00000039.jpg', 'Soba00000040.jpg', 'Soba00000041.jpg', 'Soba00000042.jpg', 'Soba00000043.jpg', 'Soba00000044.jpg', 'Soba00000045.jpg', 'Soba00000046.jpg', 'Soba00000047.jpg', 'Soba00000048.jpg', 'Soba00000049.jpg', 'Soba00000050.jpg', 'Soba00000051.jpg', 'Soba00000052.jpg', 'Soba00000053.jpg', 'Soba00000054.jpg', 'Soba00000055.jpg', 'Soba00000056.jpg', 'Soba00000057.jpg', 'Soba00000058.jpg', 'Soba00000059.jpg', 'Soba00000060.jpg', 'Soba00000061.jpg', 'Soba00000062.jpg', 'Soba00000063.jpg', 'Soba00000064.jpg', 'Soba00000065.jpg', 'Soba00000066.jpg', 'Soba00000067.jpg', 'Soba00000068.jpg', 'Soba00000069.jpg', 'Soba00000070.jpg', 'Soba00000071.jpg', 'Soba00000072.jpg', 'Soba00000073.jpg', 'Soba00000074.jpg', 'Soba00000075.jpg', 'Soba00000076.jpg', 'Soba00000077.jpg', 'Soba00000078.jpg', 'Soba00000079.jpg', 'Soba00000080.jpg', 'Soba00000081.jpg', 'Soba00000082.jpg', 'Soba00000083.jpg', 'Soba00000084.jpg', 'Soba00000085.jpg', 'Soba00000086.jpg', 'Soba00000087.jpg', 'Soba00000088.jpg', 'Soba00000089.jpg', 'Soba00000090.jpg', 'Soba00000091.jpg', 'Soba00000092.jpg', 'Soba00000093.jpg', 'Soba00000094.jpg', 'Soba00000095.jpg', 'Soba00000096.jpg', 'Soba00000097.jpg', 'Soba00000098.jpg', 'Soba00000099.jpg', 'Soba00000100.jpg', 'Soba00000101.jpg', 'Soba00000102.jpg', 'Soba00000103.jpg', 'Soba00000104.jpg', 'Soba00000105.jpg', 'Soba00000106.jpg', 'Soba00000107.jpg', 'Soba00000108.jpg', 'Soba00000109.jpg', 'Soba00000110.jpg', 'Soba00000111.jpg', 'Soba00000112.jpg', 'Soba00000113.jpg', 'Soba00000114.jpg', 'Soba00000115.jpg', 'Soba00000116.jpg', 'Soba00000117.jpg', 'Soba00000118.jpg', 'Soba00000119.jpg', 'Soba00000120.jpg', 'Soba00000121.jpg', 'Soba00000122.jpg', 'Soba00000123.jpg', 'Soba00000124.jpg', 'Soba00000125.jpg', 'Soba00000126.jpg', 'Soba00000127.jpg', 'Soba00000128.jpg', 'Soba00000129.jpg', 'Soba00000130.jpg', 'Soba00000131.jpg', 'Soba00000132.jpg', 'Soba00000133.jpg', 'Soba00000134.jpg', 'Soba00000135.jpg', 'Soba00000136.jpg', 'Soba00000137.jpg', 'Soba00000138.jpg', 'Soba00000139.jpg', 'Soba00000140.jpg', 'Soba00000141.jpg', 'Soba00000142.jpg', 'Soba00000143.jpg', 'Soba00000144.jpg', 'Soba00000145.jpg', 'Soba00000146.jpg', 'Soba00000147.jpg', 'Soba00000148.jpg', 'Soba00000149.jpg', 'Soba00000150.jpg', 'Soba00000151.jpg', 'Soba00000152.jpg', 'Soba00000153.jpg', 'Soba00000154.jpg', 'Soba00000155.jpg', 'Soba00000156.jpg', 'Soba00000157.jpg', 'Soba00000158.jpg', 'Soba00000159.jpg', 'Soba00000160.jpg', 'Soba00000161.jpg', 'Soba00000162.jpg', 'Soba00000163.jpg', 'Soba00000164.jpg', 'Soba00000165.jpg', 'Soba00000166.jpg', 'Soba00000167.jpg', 'Soba00000168.jpg', 'Soba00000169.jpg', 'Soba00000170.jpg', 'Soba00000171.jpg', 'Soba00000172.jpg', 'Soba00000173.jpg', 'Soba00000174.jpg', 'Soba00000175.jpg', 'Soba00000176.jpg', 'Soba00000177.jpg', 'Soba00000178.jpg', 'Soba00000179.jpg', 'Soba00000180.jpg', 'Soba00000181.jpg', 'Soba00000182.jpg', 'Soba00000183.jpg', 'Soba00000184.jpg', 'Soba00000185.jpg', 'Soba00000186.jpg', 'Soba00000187.jpg', 'Soba00000188.jpg', 'Soba00000189.jpg', 'Soba00000190.jpg', 'Soba00000191.jpg', 'Soba00000192.jpg', 'Soba00000193.jpg', 'Soba00000194.jpg', 'Soba00000195.jpg', 'Soba00000196.jpg', 'Soba00000197.jpg', 'Soba00000198.jpg', 'Soba00000199.jpg', 'Soba00000200.jpg', 'Soba00000201.jpg', 'Soba00000202.jpg', 'Soba00000203.jpg', 'Soba00000204.jpg', 'Soba00000205.jpg', 'Soba00000206.jpg', 'Soba00000207.jpg', 'Soba00000208.jpg', 'Soba00000209.jpg', 'Soba00000210.jpg', 'Soba00000211.jpg', 'Soba00000212.jpg', 'Soba00000213.jpg', 'Soba00000214.jpg', 'Soba00000215.jpg', 'Soba00000216.jpg', 'Soba00000217.jpg', 'Soba00000218.jpg', 'Soba00000219.jpg', 'Soba00000220.jpg', 'Soba00000221.jpg', 'Soba00000222.jpg', 'Soba00000223.jpg', 'Soba00000224.jpg', 'Soba00000225.jpg', 'Soba00000226.jpg', 'Soba00000227.jpg', 'Soba00000228.jpg', 'Soba00000229.jpg', 'Soba00000230.jpg', 'Soba00000231.jpg', 'Soba00000232.jpg', 'Soba00000233.jpg', 'Soba00000234.jpg', 'Soba00000235.jpg', 'Soba00000236.jpg', 'Soba00000237.jpg', 'Soba00000238.jpg', 'Soba00000239.jpg', 'Soba00000240.jpg', 'Soba00000241.jpg', 'Soba00000242.jpg', 'Soba00000243.jpg', 'Soba00000244.jpg', 'Soba00000245.jpg', 'Soba00000246.jpg', 'Soba00000247.jpg', 'Soba00000248.jpg', 'Soba00000249.jpg', 'Soba00000250.jpg', 'Soba00000251.jpg', 'Soba00000252.jpg', 'Soba00000253.jpg', 'Soba00000254.jpg', 'Soba00000255.jpg', 'Soba00000256.jpg', 'Soba00000257.jpg', 'Soba00000258.jpg', 'Soba00000259.jpg', 'Soba00000260.jpg', 'Soba00000261.jpg', 'Soba00000262.jpg', 'Soba00000263.jpg', 'Soba00000264.jpg', 'Soba00000265.jpg', 'Soba00000266.jpg', 'Soba00000267.jpg', 'Soba00000268.jpg', 'Soba00000269.jpg', 'Soba00000270.jpg', 'Soba00000271.jpg', 'Soba00000272.jpg', 'Soba00000273.jpg', 'Soba00000274.jpg', 'Soba00000275.jpg', 'Soba00000276.jpg', 'Soba00000277.jpg', 'Soba00000278.jpg', 'Soba00000279.jpg', 'Soba00000280.jpg', 'Soba00000281.jpg', 'Soba00000282.jpg', 'Soba00000283.jpg', 'Soba00000284.jpg', 'Soba00000285.jpg', 'Soba00000286.jpg', 'Soba00000287.jpg', 'Soba00000288.jpg', 'Soba00000289.jpg', 'Soba00000290.jpg', 'Soba00000291.jpg', 'Soba00000292.jpg', 'Soba00000293.jpg', 'Soba00000294.jpg', 'Soba00000295.jpg', 'Soba00000296.jpg', 'Soba00000297.jpg', 'Soba00000298.jpg', 'Soba00000299.jpg', 'Soba00000300.jpg', 'Soba00000301.jpg', 'Soba00000302.jpg', 'Soba00000303.jpg', 'Soba00000304.jpg', 'Soba00000305.jpg', 'Soba00000306.jpg', 'Soba00000307.jpg', 'Soba00000308.jpg', 'Soba00000309.jpg', 'Soba00000310.jpg', 'Soba00000311.jpg', 'Soba00000312.jpg', 'Soba00000313.jpg', 'Soba00000314.jpg', 'Soba00000315.jpg', 'Soba00000316.jpg', 'Soba00000317.jpg', 'Soba00000318.jpg', 'Soba00000319.jpg', 'Soba00000320.jpg', 'Soba00000321.jpg', 'Soba00000322.jpg', 'Soba00000323.jpg', 'Soba00000324.jpg', 'Soba00000325.jpg', 'Soba00000326.jpg', 'Soba00000327.jpg', 'Soba00000328.jpg', 'Soba00000329.jpg', 'Soba00000330.jpg', 'Soba00000331.jpg', 'Soba00000332.jpg', 'Soba00000333.jpg', 'Soba00000334.jpg', 'Soba00000335.jpg', 'Soba00000336.jpg', 'Soba00000337.jpg', 'Soba00000338.jpg', 'Soba00000339.jpg', 'Soba00000340.jpg', 'Soba00000341.jpg', 'Soba00000342.jpg', 'Soba00000343.jpg', 'Soba00000344.jpg', 'Soba00000345.jpg', 'Soba00000346.jpg', 'Soba00000347.jpg', 'Soba00000348.jpg', 'Soba00000349.jpg', 'Soba00000350.jpg', 'Soba00000351.jpg', 'Soba00000352.jpg', 'Soba00000353.jpg', 'Soba00000354.jpg', 'Soba00000355.jpg', 'Soba00000356.jpg', 'Soba00000357.jpg', 'Soba00000358.jpg', 'Soba00000359.jpg', 'Soba00000360.jpg', 'Soba00000361.jpg', 'Soba00000362.jpg', 'Soba00000363.jpg', 'Soba00000364.jpg', 'Soba00000365.jpg', 'Soba00000366.jpg', 'Soba00000367.jpg', 'Soba00000368.jpg', 'Soba00000369.jpg', 'Soba00000370.jpg', 'Soba00000371.jpg', 'Soba00000372.jpg', 'Soba00000373.jpg', 'Soba00000374.jpg', 'Soba00000375.jpg', 'Soba00000376.jpg', 'Soba00000377.jpg', 'Soba00000378.jpg', 'Soba00000379.jpg', 'Soba00000380.jpg', 'Soba00000381.jpg', 'Soba00000382.jpg', 'Soba00000383.jpg', 'Soba00000384.jpg', 'Soba00000385.jpg', 'Soba00000386.jpg', 'Soba00000387.jpg', 'Soba00000388.jpg', 'Soba00000389.jpg', 'Soba00000390.jpg', 'Soba00000391.jpg', 'Soba00000392.jpg', 'Soba00000393.jpg', 'Soba00000394.jpg', 'Soba00000395.jpg', 'Soba00000396.jpg', 'Soba00000397.jpg', 'Soba00000398.jpg', 'Soba00000399.jpg', 'Soba00000400.jpg', 'Soba00000401.jpg', 'Soba00000402.jpg', 'Soba00000403.jpg', 'Soba00000404.jpg', 'Soba00000405.jpg', 'Soba00000406.jpg', 'Soba00000407.jpg', 'Soba00000408.jpg', 'Soba00000409.jpg', 'Soba00000410.jpg', 'Soba00000411.jpg', 'Soba00000412.jpg', 'Soba00000413.jpg', 'Soba00000414.jpg', 'Soba00000415.jpg', 'Soba00000416.jpg', 'Soba00000417.jpg', 'Soba00000418.jpg', 'Soba00000419.jpg', 'Soba00000420.jpg', 'Soba00000421.jpg', 'Soba00000422.jpg', 'Soba00000423.jpg', 'Soba00000424.jpg', 'Soba00000425.jpg', 'Soba00000426.jpg', 'Soba00000427.jpg', 'Soba00000428.jpg', 'Soba00000429.jpg', 'Soba00000430.jpg', 'Soba00000431.jpg', 'Soba00000432.jpg', 'Soba00000433.jpg', 'Soba00000434.jpg', 'Soba00000435.jpg', 'Soba00000436.jpg', 'Soba00000437.jpg', 'Soba00000438.jpg', 'Soba00000439.jpg', 'Soba00000440.jpg', 'Soba00000441.jpg', 'Soba00000442.jpg', 'Soba00000443.jpg', 'Soba00000444.jpg', 'Soba00000445.jpg', 'Soba00000446.jpg', 'Soba00000447.jpg', 'Soba00000448.jpg', 'Soba00000449.jpg', 'Soba00000450.jpg', 'Soba00000451.jpg', 'Soba00000452.jpg', 'Soba00000453.jpg', 'Soba00000454.jpg', 'Soba00000455.jpg', 'Soba00000456.jpg', 'Soba00000457.jpg', 'Soba00000458.jpg', 'Soba00000459.jpg', 'Soba00000460.jpg', 'Soba00000461.jpg', 'Soba00000462.jpg', 'Soba00000463.jpg', 'Soba00000464.jpg', 'Soba00000465.jpg', 'Soba00000466.jpg', 'Soba00000467.jpg', 'Soba00000468.jpg', 'Soba00000469.jpg', 'Soba00000470.jpg', 'Soba00000471.jpg', 'Soba00000472.jpg', 'Soba00000473.jpg', 'Soba00000474.jpg', 'Soba00000475.jpg', 'Soba00000476.jpg', 'Soba00000477.jpg', 'Soba00000478.jpg', 'Soba00000479.jpg', 'Soba00000480.jpg', 'Soba00000481.jpg', 'Soba00000482.jpg', 'Soba00000483.jpg', 'Soba00000484.jpg', 'Soba00000485.jpg', 'Soba00000486.jpg', 'Soba00000487.jpg', 'Soba00000488.jpg', 'Soba00000489.jpg', 'Soba00000490.jpg', 'Soba00000491.jpg', 'Soba00000492.jpg', 'Soba00000493.jpg', 'Soba00000494.jpg', 'Soba00000495.jpg', 'Soba00000496.jpg', 'Soba00000497.jpg', 'Soba00000498.jpg', 'Soba00000499.jpg', 'Soba00000500.jpg', 'Soba00000501.jpg', 'Soba00000502.jpg', 'Soba00000503.jpg', 'Soba00000504.jpg', 'Soba00000505.jpg', 'Soba00000506.jpg', 'Soba00000507.jpg', 'Soba00000508.jpg', 'Soba00000509.jpg', 'Soba00000510.jpg', 'Soba00000511.jpg', 'Soba00000512.jpg', 'Soba00000513.jpg', 'Soba00000514.jpg', 'Soba00000515.jpg', 'Soba00000516.jpg', 'Soba00000517.jpg']\n"
     ]
    }
   ],
   "source": [
    "jpgs = glob.glob(\"../images/*.jpg\")\n",
    "jpgs = [jpg.split('/')[2] for jpg in jpgs]\n",
    "print(jpgs)"
   ]
  },
  {
   "cell_type": "code",
   "execution_count": 13,
   "metadata": {},
   "outputs": [],
   "source": [
    "xmls = glob.glob(\"*.xml\")\n",
    "for xml,jpg in zip(xmls,jpgs):\n",
    "    tree = ET.parse(xml)\n",
    "    filename = tree.find('filename')\n",
    "    filename = filename.text\n",
    "    if filename != jpg:\n",
    "        print(filename)"
   ]
  }
 ],
 "metadata": {
  "kernelspec": {
   "display_name": "Python 3",
   "language": "python",
   "name": "python3"
  },
  "language_info": {
   "codemirror_mode": {
    "name": "ipython",
    "version": 3
   },
   "file_extension": ".py",
   "mimetype": "text/x-python",
   "name": "python",
   "nbconvert_exporter": "python",
   "pygments_lexer": "ipython3",
   "version": "3.6.4"
  }
 },
 "nbformat": 4,
 "nbformat_minor": 2
}
